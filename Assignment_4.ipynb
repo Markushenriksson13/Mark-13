{
  "cells": [
    {
      "cell_type": "markdown",
      "metadata": {
        "id": "U9jK-A2D7_zC"
      },
      "source": [
        "# Problem Identification"
      ]
    },
    {
      "cell_type": "markdown",
      "metadata": {
        "id": "ZUS90zrM8dYS"
      },
      "source": [
        "Hypothesis: Can we predict a loan (target) based on different features?"
      ]
    },
    {
      "cell_type": "markdown",
      "metadata": {
        "id": "LQoQvjcG0jl0"
      },
      "source": [
        "# Data Preparation and Feature Engineering\n"
      ]
    },
    {
      "cell_type": "markdown",
      "metadata": {
        "id": "JBKwEFasIjBN"
      },
      "source": [
        "## Dataprep and import\n"
      ]
    },
    {
      "cell_type": "code",
      "execution_count": 70,
      "metadata": {},
      "outputs": [],
      "source": [
        "!pip install umap-learn -q"
      ]
    },
    {
      "cell_type": "code",
      "execution_count": 71,
      "metadata": {
        "id": "IJf0L2C69tYc"
      },
      "outputs": [],
      "source": [
        "# Importing necessary libraries\n",
        "import pandas as pd\n",
        "import numpy as np\n",
        "import matplotlib.pyplot as plt\n",
        "import seaborn as sns\n",
        "import altair as alt\n",
        "import umap\n",
        "from sklearn.preprocessing import StandardScaler, MinMaxScaler\n",
        "from sklearn.decomposition import PCA, NMF\n",
        "from sklearn.cluster import KMeans\n",
        "from sklearn.ensemble import RandomForestClassifier  # Example of ensemble models\n",
        "\n",
        "\n",
        "sns.set()\n",
        "!pip install xgboost -q\n",
        "!pip install shap -q\n",
        "!pip install imbalanced-learn -q\n",
        "\n",
        "import pandas as pd\n",
        "import numpy as np\n",
        "from sklearn.model_selection import train_test_split\n",
        "from sklearn.preprocessing import StandardScaler, OneHotEncoder\n",
        "from sklearn.impute import KNNImputer\n",
        "from sklearn.metrics import mean_squared_error\n",
        "from imblearn.under_sampling import RandomUnderSampler\n",
        "from xgboost import XGBRegressor\n",
        "import shap\n",
        "import joblib"
      ]
    },
    {
      "cell_type": "code",
      "execution_count": 72,
      "metadata": {
        "colab": {
          "base_uri": "https://localhost:8080/"
        },
        "id": "txNgET0eD5kV",
        "outputId": "c020fbfe-8473-4dd3-f3a0-4c46f29ad5f0"
      },
      "outputs": [
        {
          "name": "stdout",
          "output_type": "stream",
          "text": [
            "fatal: destination path 'ds-master' already exists and is not an empty directory.\n"
          ]
        }
      ],
      "source": [
        "# Clone repository from GitHub\n",
        "!git clone https://github.com/aaubs/ds-master.git\n"
      ]
    },
    {
      "cell_type": "code",
      "execution_count": 73,
      "metadata": {
        "colab": {
          "base_uri": "https://localhost:8080/"
        },
        "id": "B5KgB8v7EasM",
        "outputId": "fd0d7fde-4800-4601-895c-53a43e5fec2e"
      },
      "outputs": [],
      "source": [
        "import os\n",
        "\n",
        "# Locate the correct filepath\n",
        "#os.chdir('/content/ds-master/data/assignments_datasets/KIVA')\n",
        "\n",
        "# Check to see if the datasets are there\n",
        "# !ls\n",
        "\n"
      ]
    },
    {
      "cell_type": "code",
      "execution_count": 74,
      "metadata": {},
      "outputs": [
        {
          "name": "stdout",
          "output_type": "stream",
          "text": [
            "Requirement already satisfied: wget in /opt/anaconda3/lib/python3.12/site-packages (3.2)\n",
            "Requirement already satisfied: unzip in /opt/anaconda3/lib/python3.12/site-packages (1.0.0)\n",
            "zsh:1: command not found: wget\n",
            "zsh:1: command not found: wget\n",
            "zsh:1: command not found: wget\n",
            "unzip:  cannot find or open kiva_loans_part_0.csv.zip, kiva_loans_part_0.csv.zip.zip or kiva_loans_part_0.csv.zip.ZIP.\n",
            "unzip:  cannot find or open kiva_loans_part_1.csv.zip, kiva_loans_part_1.csv.zip.zip or kiva_loans_part_1.csv.zip.ZIP.\n",
            "unzip:  cannot find or open kiva_loans_part_2.csv.zip, kiva_loans_part_2.csv.zip.zip or kiva_loans_part_2.csv.zip.ZIP.\n"
          ]
        }
      ],
      "source": [
        "!pip install wget\n",
        "!pip install unzip\n",
        "# Download data from Github (we will use the loan-datasets for now)\n",
        "\n",
        "!wget -nc \"https://github.com/aaubs/ds-master/raw/main/data/assignments_datasets/KIVA/kiva_loans_part_0.csv.zip\"\n",
        "!wget -nc \"https://github.com/aaubs/ds-master/raw/main/data/assignments_datasets/KIVA/kiva_loans_part_1.csv.zip\"\n",
        "!wget -nc \"https://github.com/aaubs/ds-master/raw/main/data/assignments_datasets/KIVA/kiva_loans_part_2.csv.zip\"\n",
        "\n",
        "# Unzip to csv\n",
        "!unzip -o kiva_loans_part_0.csv.zip\n",
        "!unzip -o kiva_loans_part_1.csv.zip\n",
        "!unzip -o kiva_loans_part_2.csv.zip\n",
        "\n",
        "# Loading datasets\n",
        "data_part1 = pd.read_csv(\"kiva_loans_part_0.csv\")\n",
        "data_part2 = pd.read_csv(\"kiva_loans_part_1.csv\")\n",
        "data_part3 = pd.read_csv(\"kiva_loans_part_2.csv\")"
      ]
    },
    {
      "cell_type": "code",
      "execution_count": 75,
      "metadata": {
        "id": "32Y6Z2TWQ3zA"
      },
      "outputs": [],
      "source": [
        "#Load them into pandas dataframes\n",
        "df_part_0 = pd.read_csv('kiva_loans_part_0.csv')\n",
        "df_part_1 = pd.read_csv('kiva_loans_part_1.csv')\n",
        "df_part_2 = pd.read_csv('kiva_loans_part_2.csv')\n",
        "#df_mpi_region = pd.read_csv('kiva_mpi_region_locations.csv')\n",
        "#df_loan_theme_ids = pd.read_csv('loan_theme_ids.csv')\n",
        "#df_loan_themes_by_region = pd.read_csv('loan_themes_by_region.csv')"
      ]
    },
    {
      "cell_type": "code",
      "execution_count": 76,
      "metadata": {
        "colab": {
          "base_uri": "https://localhost:8080/"
        },
        "id": "0CBViVu-THf8",
        "outputId": "ae795283-848a-4a44-d2ae-0d23e4960f53"
      },
      "outputs": [
        {
          "data": {
            "text/plain": [
              "Index(['id', 'funded_amount', 'loan_amount', 'activity', 'sector', 'use',\n",
              "       'country_code', 'country', 'region', 'currency', 'partner_id',\n",
              "       'posted_time', 'disbursed_time', 'funded_time', 'term_in_months',\n",
              "       'lender_count', 'tags', 'borrower_genders', 'repayment_interval',\n",
              "       'date'],\n",
              "      dtype='object')"
            ]
          },
          "execution_count": 76,
          "metadata": {},
          "output_type": "execute_result"
        }
      ],
      "source": [
        "#Check if the columns makes sense\n",
        "df_part_0.columns"
      ]
    },
    {
      "cell_type": "markdown",
      "metadata": {
        "id": "155x1oZld6Qb"
      },
      "source": []
    },
    {
      "cell_type": "markdown",
      "metadata": {
        "id": "SPHYA56wnL1V"
      },
      "source": [
        "## Data Cleaning, manipulation and engineering"
      ]
    },
    {
      "cell_type": "code",
      "execution_count": 77,
      "metadata": {
        "colab": {
          "base_uri": "https://localhost:8080/",
          "height": 590
        },
        "id": "6UW09L_QcMT2",
        "outputId": "3157fcba-3a00-4242-cc92-20cfc311238c"
      },
      "outputs": [
        {
          "data": {
            "text/html": [
              "<div>\n",
              "<style scoped>\n",
              "    .dataframe tbody tr th:only-of-type {\n",
              "        vertical-align: middle;\n",
              "    }\n",
              "\n",
              "    .dataframe tbody tr th {\n",
              "        vertical-align: top;\n",
              "    }\n",
              "\n",
              "    .dataframe thead th {\n",
              "        text-align: right;\n",
              "    }\n",
              "</style>\n",
              "<table border=\"1\" class=\"dataframe\">\n",
              "  <thead>\n",
              "    <tr style=\"text-align: right;\">\n",
              "      <th></th>\n",
              "      <th>id</th>\n",
              "      <th>funded_amount</th>\n",
              "      <th>loan_amount</th>\n",
              "      <th>activity</th>\n",
              "      <th>sector</th>\n",
              "      <th>use</th>\n",
              "      <th>country_code</th>\n",
              "      <th>country</th>\n",
              "      <th>region</th>\n",
              "      <th>currency</th>\n",
              "      <th>partner_id</th>\n",
              "      <th>posted_time</th>\n",
              "      <th>disbursed_time</th>\n",
              "      <th>funded_time</th>\n",
              "      <th>term_in_months</th>\n",
              "      <th>lender_count</th>\n",
              "      <th>tags</th>\n",
              "      <th>borrower_genders</th>\n",
              "      <th>repayment_interval</th>\n",
              "      <th>date</th>\n",
              "    </tr>\n",
              "  </thead>\n",
              "  <tbody>\n",
              "    <tr>\n",
              "      <th>0</th>\n",
              "      <td>653051</td>\n",
              "      <td>300.0</td>\n",
              "      <td>300.0</td>\n",
              "      <td>Fruits &amp; Vegetables</td>\n",
              "      <td>Food</td>\n",
              "      <td>To buy seasonal, fresh fruits to sell.</td>\n",
              "      <td>PK</td>\n",
              "      <td>Pakistan</td>\n",
              "      <td>Lahore</td>\n",
              "      <td>PKR</td>\n",
              "      <td>247.0</td>\n",
              "      <td>2014-01-01 06:12:39+00:00</td>\n",
              "      <td>2013-12-17 08:00:00+00:00</td>\n",
              "      <td>2014-01-02 10:06:32+00:00</td>\n",
              "      <td>12.0</td>\n",
              "      <td>12</td>\n",
              "      <td>NaN</td>\n",
              "      <td>female</td>\n",
              "      <td>irregular</td>\n",
              "      <td>2014-01-01</td>\n",
              "    </tr>\n",
              "    <tr>\n",
              "      <th>1</th>\n",
              "      <td>653053</td>\n",
              "      <td>575.0</td>\n",
              "      <td>575.0</td>\n",
              "      <td>Rickshaw</td>\n",
              "      <td>Transportation</td>\n",
              "      <td>to repair and maintain the auto rickshaw used ...</td>\n",
              "      <td>PK</td>\n",
              "      <td>Pakistan</td>\n",
              "      <td>Lahore</td>\n",
              "      <td>PKR</td>\n",
              "      <td>247.0</td>\n",
              "      <td>2014-01-01 06:51:08+00:00</td>\n",
              "      <td>2013-12-17 08:00:00+00:00</td>\n",
              "      <td>2014-01-02 09:17:23+00:00</td>\n",
              "      <td>11.0</td>\n",
              "      <td>14</td>\n",
              "      <td>NaN</td>\n",
              "      <td>female, female</td>\n",
              "      <td>irregular</td>\n",
              "      <td>2014-01-01</td>\n",
              "    </tr>\n",
              "    <tr>\n",
              "      <th>2</th>\n",
              "      <td>653068</td>\n",
              "      <td>150.0</td>\n",
              "      <td>150.0</td>\n",
              "      <td>Transportation</td>\n",
              "      <td>Transportation</td>\n",
              "      <td>To repair their old cycle-van and buy another ...</td>\n",
              "      <td>IN</td>\n",
              "      <td>India</td>\n",
              "      <td>Maynaguri</td>\n",
              "      <td>INR</td>\n",
              "      <td>334.0</td>\n",
              "      <td>2014-01-01 09:58:07+00:00</td>\n",
              "      <td>2013-12-17 08:00:00+00:00</td>\n",
              "      <td>2014-01-01 16:01:36+00:00</td>\n",
              "      <td>43.0</td>\n",
              "      <td>6</td>\n",
              "      <td>user_favorite, user_favorite</td>\n",
              "      <td>female</td>\n",
              "      <td>bullet</td>\n",
              "      <td>2014-01-01</td>\n",
              "    </tr>\n",
              "    <tr>\n",
              "      <th>3</th>\n",
              "      <td>653063</td>\n",
              "      <td>200.0</td>\n",
              "      <td>200.0</td>\n",
              "      <td>Embroidery</td>\n",
              "      <td>Arts</td>\n",
              "      <td>to purchase an embroidery machine and a variet...</td>\n",
              "      <td>PK</td>\n",
              "      <td>Pakistan</td>\n",
              "      <td>Lahore</td>\n",
              "      <td>PKR</td>\n",
              "      <td>247.0</td>\n",
              "      <td>2014-01-01 08:03:11+00:00</td>\n",
              "      <td>2013-12-24 08:00:00+00:00</td>\n",
              "      <td>2014-01-01 13:00:00+00:00</td>\n",
              "      <td>11.0</td>\n",
              "      <td>8</td>\n",
              "      <td>NaN</td>\n",
              "      <td>female</td>\n",
              "      <td>irregular</td>\n",
              "      <td>2014-01-01</td>\n",
              "    </tr>\n",
              "    <tr>\n",
              "      <th>4</th>\n",
              "      <td>653084</td>\n",
              "      <td>400.0</td>\n",
              "      <td>400.0</td>\n",
              "      <td>Milk Sales</td>\n",
              "      <td>Food</td>\n",
              "      <td>to purchase one buffalo.</td>\n",
              "      <td>PK</td>\n",
              "      <td>Pakistan</td>\n",
              "      <td>Abdul Hakeem</td>\n",
              "      <td>PKR</td>\n",
              "      <td>245.0</td>\n",
              "      <td>2014-01-01 11:53:19+00:00</td>\n",
              "      <td>2013-12-17 08:00:00+00:00</td>\n",
              "      <td>2014-01-01 19:18:51+00:00</td>\n",
              "      <td>14.0</td>\n",
              "      <td>16</td>\n",
              "      <td>NaN</td>\n",
              "      <td>female</td>\n",
              "      <td>monthly</td>\n",
              "      <td>2014-01-01</td>\n",
              "    </tr>\n",
              "  </tbody>\n",
              "</table>\n",
              "</div>"
            ],
            "text/plain": [
              "       id  funded_amount  loan_amount             activity          sector  \\\n",
              "0  653051          300.0        300.0  Fruits & Vegetables            Food   \n",
              "1  653053          575.0        575.0             Rickshaw  Transportation   \n",
              "2  653068          150.0        150.0       Transportation  Transportation   \n",
              "3  653063          200.0        200.0           Embroidery            Arts   \n",
              "4  653084          400.0        400.0           Milk Sales            Food   \n",
              "\n",
              "                                                 use country_code   country  \\\n",
              "0            To buy seasonal, fresh fruits to sell.            PK  Pakistan   \n",
              "1  to repair and maintain the auto rickshaw used ...           PK  Pakistan   \n",
              "2  To repair their old cycle-van and buy another ...           IN     India   \n",
              "3  to purchase an embroidery machine and a variet...           PK  Pakistan   \n",
              "4                           to purchase one buffalo.           PK  Pakistan   \n",
              "\n",
              "         region currency  partner_id                posted_time  \\\n",
              "0        Lahore      PKR       247.0  2014-01-01 06:12:39+00:00   \n",
              "1        Lahore      PKR       247.0  2014-01-01 06:51:08+00:00   \n",
              "2     Maynaguri      INR       334.0  2014-01-01 09:58:07+00:00   \n",
              "3        Lahore      PKR       247.0  2014-01-01 08:03:11+00:00   \n",
              "4  Abdul Hakeem      PKR       245.0  2014-01-01 11:53:19+00:00   \n",
              "\n",
              "              disbursed_time                funded_time  term_in_months  \\\n",
              "0  2013-12-17 08:00:00+00:00  2014-01-02 10:06:32+00:00            12.0   \n",
              "1  2013-12-17 08:00:00+00:00  2014-01-02 09:17:23+00:00            11.0   \n",
              "2  2013-12-17 08:00:00+00:00  2014-01-01 16:01:36+00:00            43.0   \n",
              "3  2013-12-24 08:00:00+00:00  2014-01-01 13:00:00+00:00            11.0   \n",
              "4  2013-12-17 08:00:00+00:00  2014-01-01 19:18:51+00:00            14.0   \n",
              "\n",
              "   lender_count                          tags borrower_genders  \\\n",
              "0            12                           NaN           female   \n",
              "1            14                           NaN   female, female   \n",
              "2             6  user_favorite, user_favorite           female   \n",
              "3             8                           NaN           female   \n",
              "4            16                           NaN           female   \n",
              "\n",
              "  repayment_interval        date  \n",
              "0          irregular  2014-01-01  \n",
              "1          irregular  2014-01-01  \n",
              "2             bullet  2014-01-01  \n",
              "3          irregular  2014-01-01  \n",
              "4            monthly  2014-01-01  "
            ]
          },
          "execution_count": 77,
          "metadata": {},
          "output_type": "execute_result"
        }
      ],
      "source": [
        "#Concatonating the dataset\n",
        "data = pd.concat([df_part_0, df_part_1, df_part_2])\n",
        "#Using head to get an overview of the data\n",
        "data.head()"
      ]
    },
    {
      "cell_type": "code",
      "execution_count": 78,
      "metadata": {
        "colab": {
          "base_uri": "https://localhost:8080/"
        },
        "id": "PkVR5xG16czn",
        "outputId": "6bdd75ab-6520-4d0d-c621-61b1a77cc924"
      },
      "outputs": [
        {
          "data": {
            "text/plain": [
              "(671205, 20)"
            ]
          },
          "execution_count": 78,
          "metadata": {},
          "output_type": "execute_result"
        }
      ],
      "source": [
        "data.shape"
      ]
    },
    {
      "cell_type": "code",
      "execution_count": 79,
      "metadata": {
        "colab": {
          "base_uri": "https://localhost:8080/"
        },
        "id": "jU3lyu2Qf3Hx",
        "outputId": "477cfd94-4c0b-45cc-8387-6b33ccc74c09"
      },
      "outputs": [
        {
          "data": {
            "text/plain": [
              "Index(['id', 'funded_amount', 'loan_amount', 'activity', 'sector', 'use',\n",
              "       'country_code', 'country', 'region', 'currency', 'partner_id',\n",
              "       'posted_time', 'disbursed_time', 'funded_time', 'term_in_months',\n",
              "       'lender_count', 'tags', 'borrower_genders', 'repayment_interval',\n",
              "       'date'],\n",
              "      dtype='object')"
            ]
          },
          "execution_count": 79,
          "metadata": {},
          "output_type": "execute_result"
        }
      ],
      "source": [
        "#Making sure they are dropped correctly\n",
        "data.columns"
      ]
    },
    {
      "cell_type": "code",
      "execution_count": 80,
      "metadata": {
        "colab": {
          "base_uri": "https://localhost:8080/"
        },
        "id": "ipS_B3CXYMn_",
        "outputId": "87760867-b42a-4585-ff70-37c5fccefd78"
      },
      "outputs": [
        {
          "name": "stdout",
          "output_type": "stream",
          "text": [
            "                posted_time               funded_time funding_duration  \\\n",
            "0 2014-01-01 06:12:39+00:00 2014-01-02 10:06:32+00:00  1 days 03:53:53   \n",
            "1 2014-01-01 06:51:08+00:00 2014-01-02 09:17:23+00:00  1 days 02:26:15   \n",
            "2 2014-01-01 09:58:07+00:00 2014-01-01 16:01:36+00:00  0 days 06:03:29   \n",
            "3 2014-01-01 08:03:11+00:00 2014-01-01 13:00:00+00:00  0 days 04:56:49   \n",
            "4 2014-01-01 11:53:19+00:00 2014-01-01 19:18:51+00:00  0 days 07:25:32   \n",
            "\n",
            "   funding_duration_days  \n",
            "0               1.162419  \n",
            "1               1.101562  \n",
            "2               0.252419  \n",
            "3               0.206123  \n",
            "4               0.309398  \n"
          ]
        }
      ],
      "source": [
        "# We would like to also include the time/duration between posted_time and funded_time - in other words: how long it takes to get a loan funded\n",
        "# convert to pd.datetime\n",
        "data['posted_time'] = pd.to_datetime(data['posted_time'])\n",
        "data['funded_time'] = pd.to_datetime(data['funded_time'])\n",
        "\n",
        "# calculate time between posted_time and funded_time\n",
        "data['funding_duration'] = data['funded_time'] - data['posted_time']\n",
        "\n",
        "# the result in days instead of a timedelta\n",
        "data['funding_duration_days'] = (data['funded_time'] - data['posted_time']).dt.total_seconds() / (24 * 60 * 60)\n",
        "\n",
        "# first rows to check\n",
        "print(data[['posted_time', 'funded_time', 'funding_duration', 'funding_duration_days']].head())\n"
      ]
    },
    {
      "cell_type": "code",
      "execution_count": 81,
      "metadata": {
        "id": "AlE6f8MRa_g0"
      },
      "outputs": [],
      "source": [
        "#Dropping columns that are not needed\n",
        "data_cleaned = data.drop(['use', 'currency', 'id', 'disbursed_time', 'tags', 'country_code', 'date', 'repayment_interval', 'posted_time', 'funded_time', 'funding_duration'], axis=1)"
      ]
    },
    {
      "cell_type": "code",
      "execution_count": 82,
      "metadata": {
        "colab": {
          "base_uri": "https://localhost:8080/",
          "height": 261
        },
        "id": "D_a_cOGtk1on",
        "outputId": "09de6f5f-7af8-4996-83cc-f172eda0a331"
      },
      "outputs": [
        {
          "data": {
            "text/html": [
              "<div>\n",
              "<style scoped>\n",
              "    .dataframe tbody tr th:only-of-type {\n",
              "        vertical-align: middle;\n",
              "    }\n",
              "\n",
              "    .dataframe tbody tr th {\n",
              "        vertical-align: top;\n",
              "    }\n",
              "\n",
              "    .dataframe thead th {\n",
              "        text-align: right;\n",
              "    }\n",
              "</style>\n",
              "<table border=\"1\" class=\"dataframe\">\n",
              "  <thead>\n",
              "    <tr style=\"text-align: right;\">\n",
              "      <th></th>\n",
              "      <th>funded_amount</th>\n",
              "      <th>loan_amount</th>\n",
              "      <th>activity</th>\n",
              "      <th>sector</th>\n",
              "      <th>country</th>\n",
              "      <th>region</th>\n",
              "      <th>partner_id</th>\n",
              "      <th>term_in_months</th>\n",
              "      <th>lender_count</th>\n",
              "      <th>borrower_genders</th>\n",
              "      <th>funding_duration_days</th>\n",
              "    </tr>\n",
              "  </thead>\n",
              "  <tbody>\n",
              "    <tr>\n",
              "      <th>0</th>\n",
              "      <td>300.0</td>\n",
              "      <td>300.0</td>\n",
              "      <td>Fruits &amp; Vegetables</td>\n",
              "      <td>Food</td>\n",
              "      <td>Pakistan</td>\n",
              "      <td>Lahore</td>\n",
              "      <td>247.0</td>\n",
              "      <td>12.0</td>\n",
              "      <td>12</td>\n",
              "      <td>female</td>\n",
              "      <td>1.162419</td>\n",
              "    </tr>\n",
              "    <tr>\n",
              "      <th>1</th>\n",
              "      <td>575.0</td>\n",
              "      <td>575.0</td>\n",
              "      <td>Rickshaw</td>\n",
              "      <td>Transportation</td>\n",
              "      <td>Pakistan</td>\n",
              "      <td>Lahore</td>\n",
              "      <td>247.0</td>\n",
              "      <td>11.0</td>\n",
              "      <td>14</td>\n",
              "      <td>female, female</td>\n",
              "      <td>1.101562</td>\n",
              "    </tr>\n",
              "    <tr>\n",
              "      <th>2</th>\n",
              "      <td>150.0</td>\n",
              "      <td>150.0</td>\n",
              "      <td>Transportation</td>\n",
              "      <td>Transportation</td>\n",
              "      <td>India</td>\n",
              "      <td>Maynaguri</td>\n",
              "      <td>334.0</td>\n",
              "      <td>43.0</td>\n",
              "      <td>6</td>\n",
              "      <td>female</td>\n",
              "      <td>0.252419</td>\n",
              "    </tr>\n",
              "    <tr>\n",
              "      <th>3</th>\n",
              "      <td>200.0</td>\n",
              "      <td>200.0</td>\n",
              "      <td>Embroidery</td>\n",
              "      <td>Arts</td>\n",
              "      <td>Pakistan</td>\n",
              "      <td>Lahore</td>\n",
              "      <td>247.0</td>\n",
              "      <td>11.0</td>\n",
              "      <td>8</td>\n",
              "      <td>female</td>\n",
              "      <td>0.206123</td>\n",
              "    </tr>\n",
              "    <tr>\n",
              "      <th>4</th>\n",
              "      <td>400.0</td>\n",
              "      <td>400.0</td>\n",
              "      <td>Milk Sales</td>\n",
              "      <td>Food</td>\n",
              "      <td>Pakistan</td>\n",
              "      <td>Abdul Hakeem</td>\n",
              "      <td>245.0</td>\n",
              "      <td>14.0</td>\n",
              "      <td>16</td>\n",
              "      <td>female</td>\n",
              "      <td>0.309398</td>\n",
              "    </tr>\n",
              "  </tbody>\n",
              "</table>\n",
              "</div>"
            ],
            "text/plain": [
              "   funded_amount  loan_amount             activity          sector   country  \\\n",
              "0          300.0        300.0  Fruits & Vegetables            Food  Pakistan   \n",
              "1          575.0        575.0             Rickshaw  Transportation  Pakistan   \n",
              "2          150.0        150.0       Transportation  Transportation     India   \n",
              "3          200.0        200.0           Embroidery            Arts  Pakistan   \n",
              "4          400.0        400.0           Milk Sales            Food  Pakistan   \n",
              "\n",
              "         region  partner_id  term_in_months  lender_count borrower_genders  \\\n",
              "0        Lahore       247.0            12.0            12           female   \n",
              "1        Lahore       247.0            11.0            14   female, female   \n",
              "2     Maynaguri       334.0            43.0             6           female   \n",
              "3        Lahore       247.0            11.0             8           female   \n",
              "4  Abdul Hakeem       245.0            14.0            16           female   \n",
              "\n",
              "   funding_duration_days  \n",
              "0               1.162419  \n",
              "1               1.101562  \n",
              "2               0.252419  \n",
              "3               0.206123  \n",
              "4               0.309398  "
            ]
          },
          "execution_count": 82,
          "metadata": {},
          "output_type": "execute_result"
        }
      ],
      "source": [
        "data_cleaned.head()"
      ]
    },
    {
      "cell_type": "code",
      "execution_count": 83,
      "metadata": {
        "id": "cOCyzUxJiTEq"
      },
      "outputs": [],
      "source": [
        "#Dropping missing values\n",
        "data_cleaned.dropna(inplace=True)"
      ]
    },
    {
      "cell_type": "code",
      "execution_count": 84,
      "metadata": {
        "colab": {
          "base_uri": "https://localhost:8080/",
          "height": 429
        },
        "id": "NIqNx_8rWZ2L",
        "outputId": "209cacf4-86bb-44aa-9a09-7155b9f32bce"
      },
      "outputs": [
        {
          "data": {
            "text/plain": [
              "funded_amount            0\n",
              "loan_amount              0\n",
              "activity                 0\n",
              "sector                   0\n",
              "country                  0\n",
              "region                   0\n",
              "partner_id               0\n",
              "term_in_months           0\n",
              "lender_count             0\n",
              "borrower_genders         0\n",
              "funding_duration_days    0\n",
              "dtype: int64"
            ]
          },
          "execution_count": 84,
          "metadata": {},
          "output_type": "execute_result"
        }
      ],
      "source": [
        "data_cleaned.isna().sum()"
      ]
    },
    {
      "cell_type": "code",
      "execution_count": 85,
      "metadata": {
        "colab": {
          "base_uri": "https://localhost:8080/",
          "height": 261
        },
        "id": "ur_OyOZ8LiA6",
        "outputId": "f5f61967-5643-4b4a-ada2-2085d9af0cbc"
      },
      "outputs": [
        {
          "data": {
            "text/html": [
              "<div>\n",
              "<style scoped>\n",
              "    .dataframe tbody tr th:only-of-type {\n",
              "        vertical-align: middle;\n",
              "    }\n",
              "\n",
              "    .dataframe tbody tr th {\n",
              "        vertical-align: top;\n",
              "    }\n",
              "\n",
              "    .dataframe thead th {\n",
              "        text-align: right;\n",
              "    }\n",
              "</style>\n",
              "<table border=\"1\" class=\"dataframe\">\n",
              "  <thead>\n",
              "    <tr style=\"text-align: right;\">\n",
              "      <th></th>\n",
              "      <th>funded_amount</th>\n",
              "      <th>loan_amount</th>\n",
              "      <th>activity</th>\n",
              "      <th>sector</th>\n",
              "      <th>country</th>\n",
              "      <th>region</th>\n",
              "      <th>partner_id</th>\n",
              "      <th>term_in_months</th>\n",
              "      <th>lender_count</th>\n",
              "      <th>borrower_genders</th>\n",
              "      <th>funding_duration_days</th>\n",
              "    </tr>\n",
              "  </thead>\n",
              "  <tbody>\n",
              "    <tr>\n",
              "      <th>0</th>\n",
              "      <td>300.0</td>\n",
              "      <td>300.0</td>\n",
              "      <td>Fruits &amp; Vegetables</td>\n",
              "      <td>Food</td>\n",
              "      <td>Pakistan</td>\n",
              "      <td>Lahore</td>\n",
              "      <td>247.0</td>\n",
              "      <td>12.0</td>\n",
              "      <td>12</td>\n",
              "      <td>female</td>\n",
              "      <td>1.162419</td>\n",
              "    </tr>\n",
              "    <tr>\n",
              "      <th>1</th>\n",
              "      <td>575.0</td>\n",
              "      <td>575.0</td>\n",
              "      <td>Rickshaw</td>\n",
              "      <td>Transportation</td>\n",
              "      <td>Pakistan</td>\n",
              "      <td>Lahore</td>\n",
              "      <td>247.0</td>\n",
              "      <td>11.0</td>\n",
              "      <td>14</td>\n",
              "      <td>female, female</td>\n",
              "      <td>1.101562</td>\n",
              "    </tr>\n",
              "    <tr>\n",
              "      <th>2</th>\n",
              "      <td>150.0</td>\n",
              "      <td>150.0</td>\n",
              "      <td>Transportation</td>\n",
              "      <td>Transportation</td>\n",
              "      <td>India</td>\n",
              "      <td>Maynaguri</td>\n",
              "      <td>334.0</td>\n",
              "      <td>43.0</td>\n",
              "      <td>6</td>\n",
              "      <td>female</td>\n",
              "      <td>0.252419</td>\n",
              "    </tr>\n",
              "    <tr>\n",
              "      <th>3</th>\n",
              "      <td>200.0</td>\n",
              "      <td>200.0</td>\n",
              "      <td>Embroidery</td>\n",
              "      <td>Arts</td>\n",
              "      <td>Pakistan</td>\n",
              "      <td>Lahore</td>\n",
              "      <td>247.0</td>\n",
              "      <td>11.0</td>\n",
              "      <td>8</td>\n",
              "      <td>female</td>\n",
              "      <td>0.206123</td>\n",
              "    </tr>\n",
              "    <tr>\n",
              "      <th>4</th>\n",
              "      <td>400.0</td>\n",
              "      <td>400.0</td>\n",
              "      <td>Milk Sales</td>\n",
              "      <td>Food</td>\n",
              "      <td>Pakistan</td>\n",
              "      <td>Abdul Hakeem</td>\n",
              "      <td>245.0</td>\n",
              "      <td>14.0</td>\n",
              "      <td>16</td>\n",
              "      <td>female</td>\n",
              "      <td>0.309398</td>\n",
              "    </tr>\n",
              "  </tbody>\n",
              "</table>\n",
              "</div>"
            ],
            "text/plain": [
              "   funded_amount  loan_amount             activity          sector   country  \\\n",
              "0          300.0        300.0  Fruits & Vegetables            Food  Pakistan   \n",
              "1          575.0        575.0             Rickshaw  Transportation  Pakistan   \n",
              "2          150.0        150.0       Transportation  Transportation     India   \n",
              "3          200.0        200.0           Embroidery            Arts  Pakistan   \n",
              "4          400.0        400.0           Milk Sales            Food  Pakistan   \n",
              "\n",
              "         region  partner_id  term_in_months  lender_count borrower_genders  \\\n",
              "0        Lahore       247.0            12.0            12           female   \n",
              "1        Lahore       247.0            11.0            14   female, female   \n",
              "2     Maynaguri       334.0            43.0             6           female   \n",
              "3        Lahore       247.0            11.0             8           female   \n",
              "4  Abdul Hakeem       245.0            14.0            16           female   \n",
              "\n",
              "   funding_duration_days  \n",
              "0               1.162419  \n",
              "1               1.101562  \n",
              "2               0.252419  \n",
              "3               0.206123  \n",
              "4               0.309398  "
            ]
          },
          "execution_count": 85,
          "metadata": {},
          "output_type": "execute_result"
        }
      ],
      "source": [
        "data_cleaned.head()"
      ]
    },
    {
      "cell_type": "code",
      "execution_count": 86,
      "metadata": {
        "id": "6dL2KpfEP6-z"
      },
      "outputs": [],
      "source": [
        "#Locating the only variables that are needed for the proces\n",
        "df = data_cleaned.iloc[:, :10]\n"
      ]
    },
    {
      "cell_type": "code",
      "execution_count": 87,
      "metadata": {
        "id": "5roiuyNFYufY"
      },
      "outputs": [],
      "source": [
        "loans = data_cleaned"
      ]
    },
    {
      "cell_type": "code",
      "execution_count": 88,
      "metadata": {
        "colab": {
          "base_uri": "https://localhost:8080/",
          "height": 947
        },
        "id": "HYekdUlVOG_g",
        "outputId": "37d4b7b6-01b6-46bd-b0d8-0ca80fcfbbcc"
      },
      "outputs": [
        {
          "name": "stdout",
          "output_type": "stream",
          "text": [
            "       borrower_genders  male_borrowers  female_borrowers  borrowers_count  \\\n",
            "0                female               0                 1                1   \n",
            "1        female, female               0                 2                2   \n",
            "2                female               0                 1                1   \n",
            "3                female               0                 1                1   \n",
            "4                female               0                 1                1   \n",
            "...                 ...             ...               ...              ...   \n",
            "221157           female               0                 1                1   \n",
            "221163           female               0                 1                1   \n",
            "221164           female               0                 1                1   \n",
            "221170           female               0                 1                1   \n",
            "221186           female               0                 1                1   \n",
            "\n",
            "        male_borrower_ratio  gender_class  \n",
            "0                       0.0  female group  \n",
            "1                       0.0  female group  \n",
            "2                       0.0  female group  \n",
            "3                       0.0  female group  \n",
            "4                       0.0  female group  \n",
            "...                     ...           ...  \n",
            "221157                  0.0  female group  \n",
            "221163                  0.0  female group  \n",
            "221164                  0.0  female group  \n",
            "221170                  0.0  female group  \n",
            "221186                  0.0  female group  \n",
            "\n",
            "[574127 rows x 6 columns]\n"
          ]
        },
        {
          "data": {
            "text/html": [
              "<div>\n",
              "<style scoped>\n",
              "    .dataframe tbody tr th:only-of-type {\n",
              "        vertical-align: middle;\n",
              "    }\n",
              "\n",
              "    .dataframe tbody tr th {\n",
              "        vertical-align: top;\n",
              "    }\n",
              "\n",
              "    .dataframe thead th {\n",
              "        text-align: right;\n",
              "    }\n",
              "</style>\n",
              "<table border=\"1\" class=\"dataframe\">\n",
              "  <thead>\n",
              "    <tr style=\"text-align: right;\">\n",
              "      <th></th>\n",
              "      <th>funded_amount</th>\n",
              "      <th>loan_amount</th>\n",
              "      <th>activity</th>\n",
              "      <th>sector</th>\n",
              "      <th>country</th>\n",
              "      <th>region</th>\n",
              "      <th>partner_id</th>\n",
              "      <th>term_in_months</th>\n",
              "      <th>lender_count</th>\n",
              "      <th>borrower_genders</th>\n",
              "      <th>funding_duration_days</th>\n",
              "      <th>male_borrowers</th>\n",
              "      <th>female_borrowers</th>\n",
              "      <th>borrowers_count</th>\n",
              "      <th>male_borrower_ratio</th>\n",
              "      <th>gender_class</th>\n",
              "    </tr>\n",
              "  </thead>\n",
              "  <tbody>\n",
              "    <tr>\n",
              "      <th>0</th>\n",
              "      <td>300.0</td>\n",
              "      <td>300.0</td>\n",
              "      <td>Fruits &amp; Vegetables</td>\n",
              "      <td>Food</td>\n",
              "      <td>Pakistan</td>\n",
              "      <td>Lahore</td>\n",
              "      <td>247.0</td>\n",
              "      <td>12.0</td>\n",
              "      <td>12</td>\n",
              "      <td>female</td>\n",
              "      <td>1.162419</td>\n",
              "      <td>0</td>\n",
              "      <td>1</td>\n",
              "      <td>1</td>\n",
              "      <td>0.0</td>\n",
              "      <td>female group</td>\n",
              "    </tr>\n",
              "    <tr>\n",
              "      <th>1</th>\n",
              "      <td>575.0</td>\n",
              "      <td>575.0</td>\n",
              "      <td>Rickshaw</td>\n",
              "      <td>Transportation</td>\n",
              "      <td>Pakistan</td>\n",
              "      <td>Lahore</td>\n",
              "      <td>247.0</td>\n",
              "      <td>11.0</td>\n",
              "      <td>14</td>\n",
              "      <td>female, female</td>\n",
              "      <td>1.101562</td>\n",
              "      <td>0</td>\n",
              "      <td>2</td>\n",
              "      <td>2</td>\n",
              "      <td>0.0</td>\n",
              "      <td>female group</td>\n",
              "    </tr>\n",
              "    <tr>\n",
              "      <th>2</th>\n",
              "      <td>150.0</td>\n",
              "      <td>150.0</td>\n",
              "      <td>Transportation</td>\n",
              "      <td>Transportation</td>\n",
              "      <td>India</td>\n",
              "      <td>Maynaguri</td>\n",
              "      <td>334.0</td>\n",
              "      <td>43.0</td>\n",
              "      <td>6</td>\n",
              "      <td>female</td>\n",
              "      <td>0.252419</td>\n",
              "      <td>0</td>\n",
              "      <td>1</td>\n",
              "      <td>1</td>\n",
              "      <td>0.0</td>\n",
              "      <td>female group</td>\n",
              "    </tr>\n",
              "    <tr>\n",
              "      <th>3</th>\n",
              "      <td>200.0</td>\n",
              "      <td>200.0</td>\n",
              "      <td>Embroidery</td>\n",
              "      <td>Arts</td>\n",
              "      <td>Pakistan</td>\n",
              "      <td>Lahore</td>\n",
              "      <td>247.0</td>\n",
              "      <td>11.0</td>\n",
              "      <td>8</td>\n",
              "      <td>female</td>\n",
              "      <td>0.206123</td>\n",
              "      <td>0</td>\n",
              "      <td>1</td>\n",
              "      <td>1</td>\n",
              "      <td>0.0</td>\n",
              "      <td>female group</td>\n",
              "    </tr>\n",
              "    <tr>\n",
              "      <th>4</th>\n",
              "      <td>400.0</td>\n",
              "      <td>400.0</td>\n",
              "      <td>Milk Sales</td>\n",
              "      <td>Food</td>\n",
              "      <td>Pakistan</td>\n",
              "      <td>Abdul Hakeem</td>\n",
              "      <td>245.0</td>\n",
              "      <td>14.0</td>\n",
              "      <td>16</td>\n",
              "      <td>female</td>\n",
              "      <td>0.309398</td>\n",
              "      <td>0</td>\n",
              "      <td>1</td>\n",
              "      <td>1</td>\n",
              "      <td>0.0</td>\n",
              "      <td>female group</td>\n",
              "    </tr>\n",
              "    <tr>\n",
              "      <th>...</th>\n",
              "      <td>...</td>\n",
              "      <td>...</td>\n",
              "      <td>...</td>\n",
              "      <td>...</td>\n",
              "      <td>...</td>\n",
              "      <td>...</td>\n",
              "      <td>...</td>\n",
              "      <td>...</td>\n",
              "      <td>...</td>\n",
              "      <td>...</td>\n",
              "      <td>...</td>\n",
              "      <td>...</td>\n",
              "      <td>...</td>\n",
              "      <td>...</td>\n",
              "      <td>...</td>\n",
              "      <td>...</td>\n",
              "    </tr>\n",
              "    <tr>\n",
              "      <th>221157</th>\n",
              "      <td>75.0</td>\n",
              "      <td>75.0</td>\n",
              "      <td>Livestock</td>\n",
              "      <td>Agriculture</td>\n",
              "      <td>Mexico</td>\n",
              "      <td>Iztacalco</td>\n",
              "      <td>294.0</td>\n",
              "      <td>13.0</td>\n",
              "      <td>3</td>\n",
              "      <td>female</td>\n",
              "      <td>0.576875</td>\n",
              "      <td>0</td>\n",
              "      <td>1</td>\n",
              "      <td>1</td>\n",
              "      <td>0.0</td>\n",
              "      <td>female group</td>\n",
              "    </tr>\n",
              "    <tr>\n",
              "      <th>221163</th>\n",
              "      <td>25.0</td>\n",
              "      <td>25.0</td>\n",
              "      <td>Livestock</td>\n",
              "      <td>Agriculture</td>\n",
              "      <td>Paraguay</td>\n",
              "      <td>Concepción</td>\n",
              "      <td>58.0</td>\n",
              "      <td>13.0</td>\n",
              "      <td>1</td>\n",
              "      <td>female</td>\n",
              "      <td>3.737975</td>\n",
              "      <td>0</td>\n",
              "      <td>1</td>\n",
              "      <td>1</td>\n",
              "      <td>0.0</td>\n",
              "      <td>female group</td>\n",
              "    </tr>\n",
              "    <tr>\n",
              "      <th>221164</th>\n",
              "      <td>25.0</td>\n",
              "      <td>25.0</td>\n",
              "      <td>Livestock</td>\n",
              "      <td>Agriculture</td>\n",
              "      <td>Pakistan</td>\n",
              "      <td>Attock</td>\n",
              "      <td>245.0</td>\n",
              "      <td>13.0</td>\n",
              "      <td>1</td>\n",
              "      <td>female</td>\n",
              "      <td>0.421308</td>\n",
              "      <td>0</td>\n",
              "      <td>1</td>\n",
              "      <td>1</td>\n",
              "      <td>0.0</td>\n",
              "      <td>female group</td>\n",
              "    </tr>\n",
              "    <tr>\n",
              "      <th>221170</th>\n",
              "      <td>25.0</td>\n",
              "      <td>25.0</td>\n",
              "      <td>Livestock</td>\n",
              "      <td>Agriculture</td>\n",
              "      <td>Pakistan</td>\n",
              "      <td>Attock</td>\n",
              "      <td>245.0</td>\n",
              "      <td>13.0</td>\n",
              "      <td>1</td>\n",
              "      <td>female</td>\n",
              "      <td>0.639803</td>\n",
              "      <td>0</td>\n",
              "      <td>1</td>\n",
              "      <td>1</td>\n",
              "      <td>0.0</td>\n",
              "      <td>female group</td>\n",
              "    </tr>\n",
              "    <tr>\n",
              "      <th>221186</th>\n",
              "      <td>25.0</td>\n",
              "      <td>25.0</td>\n",
              "      <td>Livestock</td>\n",
              "      <td>Agriculture</td>\n",
              "      <td>Paraguay</td>\n",
              "      <td>Concepción</td>\n",
              "      <td>58.0</td>\n",
              "      <td>13.0</td>\n",
              "      <td>1</td>\n",
              "      <td>female</td>\n",
              "      <td>0.673507</td>\n",
              "      <td>0</td>\n",
              "      <td>1</td>\n",
              "      <td>1</td>\n",
              "      <td>0.0</td>\n",
              "      <td>female group</td>\n",
              "    </tr>\n",
              "  </tbody>\n",
              "</table>\n",
              "<p>574127 rows × 16 columns</p>\n",
              "</div>"
            ],
            "text/plain": [
              "        funded_amount  loan_amount             activity          sector  \\\n",
              "0               300.0        300.0  Fruits & Vegetables            Food   \n",
              "1               575.0        575.0             Rickshaw  Transportation   \n",
              "2               150.0        150.0       Transportation  Transportation   \n",
              "3               200.0        200.0           Embroidery            Arts   \n",
              "4               400.0        400.0           Milk Sales            Food   \n",
              "...               ...          ...                  ...             ...   \n",
              "221157           75.0         75.0            Livestock     Agriculture   \n",
              "221163           25.0         25.0            Livestock     Agriculture   \n",
              "221164           25.0         25.0            Livestock     Agriculture   \n",
              "221170           25.0         25.0            Livestock     Agriculture   \n",
              "221186           25.0         25.0            Livestock     Agriculture   \n",
              "\n",
              "         country        region  partner_id  term_in_months  lender_count  \\\n",
              "0       Pakistan        Lahore       247.0            12.0            12   \n",
              "1       Pakistan        Lahore       247.0            11.0            14   \n",
              "2          India     Maynaguri       334.0            43.0             6   \n",
              "3       Pakistan        Lahore       247.0            11.0             8   \n",
              "4       Pakistan  Abdul Hakeem       245.0            14.0            16   \n",
              "...          ...           ...         ...             ...           ...   \n",
              "221157    Mexico     Iztacalco       294.0            13.0             3   \n",
              "221163  Paraguay    Concepción        58.0            13.0             1   \n",
              "221164  Pakistan        Attock       245.0            13.0             1   \n",
              "221170  Pakistan        Attock       245.0            13.0             1   \n",
              "221186  Paraguay    Concepción        58.0            13.0             1   \n",
              "\n",
              "       borrower_genders  funding_duration_days  male_borrowers  \\\n",
              "0                female               1.162419               0   \n",
              "1        female, female               1.101562               0   \n",
              "2                female               0.252419               0   \n",
              "3                female               0.206123               0   \n",
              "4                female               0.309398               0   \n",
              "...                 ...                    ...             ...   \n",
              "221157           female               0.576875               0   \n",
              "221163           female               3.737975               0   \n",
              "221164           female               0.421308               0   \n",
              "221170           female               0.639803               0   \n",
              "221186           female               0.673507               0   \n",
              "\n",
              "        female_borrowers  borrowers_count  male_borrower_ratio  gender_class  \n",
              "0                      1                1                  0.0  female group  \n",
              "1                      2                2                  0.0  female group  \n",
              "2                      1                1                  0.0  female group  \n",
              "3                      1                1                  0.0  female group  \n",
              "4                      1                1                  0.0  female group  \n",
              "...                  ...              ...                  ...           ...  \n",
              "221157                 1                1                  0.0  female group  \n",
              "221163                 1                1                  0.0  female group  \n",
              "221164                 1                1                  0.0  female group  \n",
              "221170                 1                1                  0.0  female group  \n",
              "221186                 1                1                  0.0  female group  \n",
              "\n",
              "[574127 rows x 16 columns]"
            ]
          },
          "execution_count": 88,
          "metadata": {},
          "output_type": "execute_result"
        }
      ],
      "source": [
        "import re\n",
        "\n",
        "# Tæl antallet af mandlige og kvindelige låntagere (Count the number of male and female borrowers)\n",
        "loans['male_borrowers'] = loans['borrower_genders'].apply(lambda x: len(re.findall(r'\\bmale', str(x))))\n",
        "loans['female_borrowers'] = loans['borrower_genders'].apply(lambda x: len(re.findall(r'\\bfemale', str(x))))\n",
        "\n",
        "# Beregn det samlede antal låntagere (Calculate total number of borrowers)\n",
        "loans['borrowers_count'] = loans['male_borrowers'] + loans['female_borrowers']\n",
        "\n",
        "# Håndter situationer, hvor 'borrowers_count' er 0 for at undgå division med 0 (Handle cases where borrower count is 0 to avoid division by 0)\n",
        "loans['male_borrower_ratio'] = loans['male_borrowers'] / loans['borrowers_count'].replace(0, 1)\n",
        "\n",
        "# Funktion til at klassificere køn baseret på ratio (Function to classify gender based on ratio)\n",
        "def classify_genders(ratio):\n",
        "    if ratio == 1:\n",
        "        return 'male group'\n",
        "    elif ratio == 0:\n",
        "        return 'female group'\n",
        "    else:\n",
        "        return 'mixed group'\n",
        "\n",
        "# Anvend kønsklassifikationen (Apply gender classification)\n",
        "loans['gender_class'] = loans['male_borrower_ratio'].apply(classify_genders)\n",
        "\n",
        "# Udskriv resultatet (Print result)\n",
        "print(loans[['borrower_genders', 'male_borrowers', 'female_borrowers', 'borrowers_count', 'male_borrower_ratio', 'gender_class']])\n",
        "\n",
        "loans\n"
      ]
    },
    {
      "cell_type": "code",
      "execution_count": 89,
      "metadata": {
        "colab": {
          "base_uri": "https://localhost:8080/",
          "height": 261
        },
        "id": "BsuIPcN6P8Ib",
        "outputId": "39c26119-2280-4d69-9359-7cf87423b8b6"
      },
      "outputs": [
        {
          "data": {
            "text/html": [
              "<div>\n",
              "<style scoped>\n",
              "    .dataframe tbody tr th:only-of-type {\n",
              "        vertical-align: middle;\n",
              "    }\n",
              "\n",
              "    .dataframe tbody tr th {\n",
              "        vertical-align: top;\n",
              "    }\n",
              "\n",
              "    .dataframe thead th {\n",
              "        text-align: right;\n",
              "    }\n",
              "</style>\n",
              "<table border=\"1\" class=\"dataframe\">\n",
              "  <thead>\n",
              "    <tr style=\"text-align: right;\">\n",
              "      <th></th>\n",
              "      <th>funded_amount</th>\n",
              "      <th>loan_amount</th>\n",
              "      <th>activity</th>\n",
              "      <th>sector</th>\n",
              "      <th>country</th>\n",
              "      <th>region</th>\n",
              "      <th>partner_id</th>\n",
              "      <th>term_in_months</th>\n",
              "      <th>lender_count</th>\n",
              "      <th>borrower_genders</th>\n",
              "    </tr>\n",
              "  </thead>\n",
              "  <tbody>\n",
              "    <tr>\n",
              "      <th>0</th>\n",
              "      <td>300.0</td>\n",
              "      <td>300.0</td>\n",
              "      <td>Fruits &amp; Vegetables</td>\n",
              "      <td>Food</td>\n",
              "      <td>Pakistan</td>\n",
              "      <td>Lahore</td>\n",
              "      <td>247.0</td>\n",
              "      <td>12.0</td>\n",
              "      <td>12</td>\n",
              "      <td>female</td>\n",
              "    </tr>\n",
              "    <tr>\n",
              "      <th>1</th>\n",
              "      <td>575.0</td>\n",
              "      <td>575.0</td>\n",
              "      <td>Rickshaw</td>\n",
              "      <td>Transportation</td>\n",
              "      <td>Pakistan</td>\n",
              "      <td>Lahore</td>\n",
              "      <td>247.0</td>\n",
              "      <td>11.0</td>\n",
              "      <td>14</td>\n",
              "      <td>female, female</td>\n",
              "    </tr>\n",
              "    <tr>\n",
              "      <th>2</th>\n",
              "      <td>150.0</td>\n",
              "      <td>150.0</td>\n",
              "      <td>Transportation</td>\n",
              "      <td>Transportation</td>\n",
              "      <td>India</td>\n",
              "      <td>Maynaguri</td>\n",
              "      <td>334.0</td>\n",
              "      <td>43.0</td>\n",
              "      <td>6</td>\n",
              "      <td>female</td>\n",
              "    </tr>\n",
              "    <tr>\n",
              "      <th>3</th>\n",
              "      <td>200.0</td>\n",
              "      <td>200.0</td>\n",
              "      <td>Embroidery</td>\n",
              "      <td>Arts</td>\n",
              "      <td>Pakistan</td>\n",
              "      <td>Lahore</td>\n",
              "      <td>247.0</td>\n",
              "      <td>11.0</td>\n",
              "      <td>8</td>\n",
              "      <td>female</td>\n",
              "    </tr>\n",
              "    <tr>\n",
              "      <th>4</th>\n",
              "      <td>400.0</td>\n",
              "      <td>400.0</td>\n",
              "      <td>Milk Sales</td>\n",
              "      <td>Food</td>\n",
              "      <td>Pakistan</td>\n",
              "      <td>Abdul Hakeem</td>\n",
              "      <td>245.0</td>\n",
              "      <td>14.0</td>\n",
              "      <td>16</td>\n",
              "      <td>female</td>\n",
              "    </tr>\n",
              "  </tbody>\n",
              "</table>\n",
              "</div>"
            ],
            "text/plain": [
              "   funded_amount  loan_amount             activity          sector   country  \\\n",
              "0          300.0        300.0  Fruits & Vegetables            Food  Pakistan   \n",
              "1          575.0        575.0             Rickshaw  Transportation  Pakistan   \n",
              "2          150.0        150.0       Transportation  Transportation     India   \n",
              "3          200.0        200.0           Embroidery            Arts  Pakistan   \n",
              "4          400.0        400.0           Milk Sales            Food  Pakistan   \n",
              "\n",
              "         region  partner_id  term_in_months  lender_count borrower_genders  \n",
              "0        Lahore       247.0            12.0            12           female  \n",
              "1        Lahore       247.0            11.0            14   female, female  \n",
              "2     Maynaguri       334.0            43.0             6           female  \n",
              "3        Lahore       247.0            11.0             8           female  \n",
              "4  Abdul Hakeem       245.0            14.0            16           female  "
            ]
          },
          "execution_count": 89,
          "metadata": {},
          "output_type": "execute_result"
        }
      ],
      "source": [
        "df.head()"
      ]
    },
    {
      "cell_type": "code",
      "execution_count": 90,
      "metadata": {
        "colab": {
          "base_uri": "https://localhost:8080/"
        },
        "id": "JIcPwbykXKr8",
        "outputId": "8d3ae0cd-9ace-4097-e7f6-ec02eed29a6e"
      },
      "outputs": [
        {
          "name": "stdout",
          "output_type": "stream",
          "text": [
            "Index(['funded_amount', 'loan_amount', 'activity', 'sector', 'country',\n",
            "       'region', 'partner_id', 'term_in_months', 'lender_count',\n",
            "       'borrower_genders', 'funding_duration_days', 'male_borrowers',\n",
            "       'female_borrowers', 'borrowers_count', 'male_borrower_ratio',\n",
            "       'gender_class'],\n",
            "      dtype='object')\n"
          ]
        }
      ],
      "source": [
        "print(loans.columns)\n"
      ]
    },
    {
      "cell_type": "code",
      "execution_count": 91,
      "metadata": {
        "id": "-fBt94ReQBa2"
      },
      "outputs": [],
      "source": [
        "from sklearn.preprocessing import StandardScaler\n",
        "scaler = StandardScaler()"
      ]
    },
    {
      "cell_type": "code",
      "execution_count": 92,
      "metadata": {},
      "outputs": [],
      "source": [
        "# Sample 50,000 rows from the loans DataFrame\n",
        "loans_sampled = loans.sample(n=500, random_state=21)\n",
        "\n",
        "# Reset index after sampling (optional)\n",
        "loans_sampled = loans_sampled.reset_index(drop=True)"
      ]
    },
    {
      "cell_type": "code",
      "execution_count": 93,
      "metadata": {
        "id": "21TV_CuDIQMz"
      },
      "outputs": [],
      "source": [
        "import pandas as pd\n",
        "from sklearn.model_selection import train_test_split\n",
        "from sklearn.preprocessing import StandardScaler, OneHotEncoder\n",
        "from sklearn.compose import ColumnTransformer\n",
        "from sklearn.pipeline import Pipeline\n",
        "from sklearn.linear_model import LinearRegression\n",
        "\n",
        "# Define the target variable 'y' (loan_amount)\n",
        "y = loans_sampled['loan_amount']\n",
        "\n",
        "# Define the feature set 'X' (all other columns except loan_amount)\n",
        "X = loans_sampled[['activity', 'sector', 'country', 'borrowers_count', 'funding_duration_days', 'gender_class', 'region']]\n",
        "\n",
        "# Preprocessing for numeric features\n",
        "numeric_features = ['borrowers_count', 'funding_duration_days']\n",
        "numeric_transformer = StandardScaler()\n",
        "\n",
        "# Preprocessing for categorical features\n",
        "categorical_features = ['activity', 'sector', 'country', 'region', 'gender_class']\n",
        "categorical_transformer = OneHotEncoder(handle_unknown='ignore')\n",
        "\n",
        "# Combine preprocessing steps\n",
        "preprocessor = ColumnTransformer(\n",
        "   transformers=[\n",
        "       ('num', numeric_transformer, numeric_features),\n",
        "       ('cat', categorical_transformer, categorical_features)\n",
        "   ])\n",
        "\n",
        "\n"
      ]
    },
    {
      "cell_type": "markdown",
      "metadata": {
        "id": "gD8JyNUy7DRS"
      },
      "source": [
        "# Model Selection and Training\n"
      ]
    },
    {
      "cell_type": "markdown",
      "metadata": {
        "id": "VhEM_UGo7FEY"
      },
      "source": [
        "### 4. Apply at least two supervised learning algorithms\n",
        "We will apply at least two different algorithms (e.g., Logistic Regression, Random Forest) and compare their performances.\n"
      ]
    },
    {
      "cell_type": "code",
      "execution_count": 94,
      "metadata": {},
      "outputs": [
        {
          "name": "stdout",
          "output_type": "stream",
          "text": [
            "Training R^2 score: 0.9805024150928409\n",
            "Test R^2 score: 0.3538643676653078\n"
          ]
        }
      ],
      "source": [
        "# Define the regression model pipeline\n",
        "model = Pipeline(steps=[('preprocessor', preprocessor),\n",
        "                       ('regressor', LinearRegression())])\n",
        "\n",
        "# Split data into training and test sets\n",
        "X_train, X_test, y_train, y_test = train_test_split(X, y, test_size=0.2, random_state=21)\n",
        "\n",
        "# Train the model\n",
        "model.fit(X_train, y_train)\n",
        "\n",
        "# Evaluate the model\n",
        "train_score = model.score(X_train, y_train)\n",
        "test_score = model.score(X_test, y_test)\n",
        "\n",
        "print(f'Training R^2 score: {train_score}')\n",
        "print(f'Test R^2 score: {test_score}')"
      ]
    },
    {
      "cell_type": "code",
      "execution_count": 95,
      "metadata": {},
      "outputs": [
        {
          "name": "stdout",
          "output_type": "stream",
          "text": [
            "Random Forest - Training R^2 score: 0.9360726144969517\n",
            "Random Forest - Test R^2 score: 0.6221652240848183\n"
          ]
        }
      ],
      "source": [
        "from sklearn.ensemble import RandomForestRegressor\n",
        "from sklearn.pipeline import Pipeline\n",
        "from sklearn.model_selection import train_test_split\n",
        "\n",
        "# Define the Random Forest model pipeline without hyperparameters\n",
        "rf_model = Pipeline(steps=[\n",
        "    ('preprocessor', preprocessor),\n",
        "    ('regressor', RandomForestRegressor())  # Default hyperparameters are used\n",
        "])\n",
        "\n",
        "# Split data into training and test sets\n",
        "X_train, X_test, y_train, y_test = train_test_split(X, y, test_size=0.2, random_state=21)\n",
        "\n",
        "# Train the model\n",
        "rf_model.fit(X_train, y_train)\n",
        "\n",
        "# Evaluate the model\n",
        "train_score_rf = rf_model.score(X_train, y_train)\n",
        "test_score_rf = rf_model.score(X_test, y_test)\n",
        "\n",
        "print(f'Random Forest - Training R^2 score: {train_score_rf}')\n",
        "print(f'Random Forest - Test R^2 score: {test_score_rf}')\n"
      ]
    },
    {
      "cell_type": "markdown",
      "metadata": {
        "id": "o6wTi9og7Vhh"
      },
      "source": [
        "### 6. Perform hyperparameter tuning\n",
        "We will perform hyperparameter tuning using GridSearchCV or RandomizedSearchCV to optimize performance.\n"
      ]
    },
    {
      "cell_type": "code",
      "execution_count": 108,
      "metadata": {},
      "outputs": [
        {
          "name": "stdout",
          "output_type": "stream",
          "text": [
            "Fitting 5 folds for each of 10 candidates, totalling 50 fits\n",
            "[CV] END regressor__max_depth=80, regressor__min_samples_leaf=1, regressor__min_samples_split=2, regressor__n_estimators=120; total time=   0.6s\n",
            "[CV] END regressor__max_depth=80, regressor__min_samples_leaf=1, regressor__min_samples_split=2, regressor__n_estimators=120; total time=   0.6s\n",
            "[CV] END regressor__max_depth=50, regressor__min_samples_leaf=1, regressor__min_samples_split=10, regressor__n_estimators=180; total time=   0.6s\n",
            "[CV] END regressor__max_depth=50, regressor__min_samples_leaf=1, regressor__min_samples_split=10, regressor__n_estimators=180; total time=   0.7s\n",
            "[CV] END regressor__max_depth=50, regressor__min_samples_leaf=1, regressor__min_samples_split=10, regressor__n_estimators=180; total time=   0.7s\n",
            "[CV] END regressor__max_depth=50, regressor__min_samples_leaf=1, regressor__min_samples_split=10, regressor__n_estimators=180; total time=   0.7s\n",
            "[CV] END regressor__max_depth=80, regressor__min_samples_leaf=1, regressor__min_samples_split=2, regressor__n_estimators=120; total time=   0.7s\n",
            "[CV] END regressor__max_depth=50, regressor__min_samples_leaf=1, regressor__min_samples_split=10, regressor__n_estimators=180; total time=   0.7s\n",
            "[CV] END regressor__max_depth=60, regressor__min_samples_leaf=5, regressor__min_samples_split=5, regressor__n_estimators=110; total time=   0.2s\n",
            "[CV] END regressor__max_depth=60, regressor__min_samples_leaf=5, regressor__min_samples_split=5, regressor__n_estimators=110; total time=   0.2s\n",
            "[CV] END regressor__max_depth=60, regressor__min_samples_leaf=5, regressor__min_samples_split=5, regressor__n_estimators=110; total time=   0.2s\n",
            "[CV] END regressor__max_depth=60, regressor__min_samples_leaf=5, regressor__min_samples_split=5, regressor__n_estimators=110; total time=   0.3s\n",
            "[CV] END regressor__max_depth=60, regressor__min_samples_leaf=5, regressor__min_samples_split=5, regressor__n_estimators=110; total time=   0.3s\n",
            "[CV] END regressor__max_depth=80, regressor__min_samples_leaf=1, regressor__min_samples_split=2, regressor__n_estimators=120; total time=   0.7s\n",
            "[CV] END regressor__max_depth=80, regressor__min_samples_leaf=3, regressor__min_samples_split=10, regressor__n_estimators=120; total time=   0.3s\n",
            "[CV] END regressor__max_depth=80, regressor__min_samples_leaf=1, regressor__min_samples_split=2, regressor__n_estimators=120; total time=   0.8s\n",
            "[CV] END regressor__max_depth=80, regressor__min_samples_leaf=3, regressor__min_samples_split=10, regressor__n_estimators=120; total time=   0.2s\n",
            "[CV] END regressor__max_depth=70, regressor__min_samples_leaf=1, regressor__min_samples_split=2, regressor__n_estimators=160; total time=   0.8s\n",
            "[CV] END regressor__max_depth=80, regressor__min_samples_leaf=3, regressor__min_samples_split=10, regressor__n_estimators=120; total time=   0.2s\n",
            "[CV] END regressor__max_depth=70, regressor__min_samples_leaf=1, regressor__min_samples_split=2, regressor__n_estimators=160; total time=   0.8s\n",
            "[CV] END regressor__max_depth=80, regressor__min_samples_leaf=3, regressor__min_samples_split=10, regressor__n_estimators=120; total time=   0.4s\n",
            "[CV] END regressor__max_depth=70, regressor__min_samples_leaf=1, regressor__min_samples_split=2, regressor__n_estimators=160; total time=   0.8s\n",
            "[CV] END regressor__max_depth=70, regressor__min_samples_leaf=1, regressor__min_samples_split=2, regressor__n_estimators=160; total time=   0.8s\n",
            "[CV] END regressor__max_depth=80, regressor__min_samples_leaf=3, regressor__min_samples_split=10, regressor__n_estimators=120; total time=   0.2s\n",
            "[CV] END regressor__max_depth=70, regressor__min_samples_leaf=5, regressor__min_samples_split=2, regressor__n_estimators=110; total time=   0.2s\n",
            "[CV] END regressor__max_depth=70, regressor__min_samples_leaf=1, regressor__min_samples_split=2, regressor__n_estimators=160; total time=   0.8s\n",
            "[CV] END regressor__max_depth=70, regressor__min_samples_leaf=5, regressor__min_samples_split=2, regressor__n_estimators=110; total time=   0.2s\n",
            "[CV] END regressor__max_depth=70, regressor__min_samples_leaf=5, regressor__min_samples_split=2, regressor__n_estimators=110; total time=   0.2s\n",
            "[CV] END regressor__max_depth=70, regressor__min_samples_leaf=5, regressor__min_samples_split=2, regressor__n_estimators=110; total time=   0.2s\n",
            "[CV] END regressor__max_depth=90, regressor__min_samples_leaf=5, regressor__min_samples_split=2, regressor__n_estimators=120; total time=   0.2s\n",
            "[CV] END regressor__max_depth=70, regressor__min_samples_leaf=5, regressor__min_samples_split=2, regressor__n_estimators=110; total time=   0.2s\n",
            "[CV] END regressor__max_depth=90, regressor__min_samples_leaf=5, regressor__min_samples_split=2, regressor__n_estimators=120; total time=   0.2s\n",
            "[CV] END regressor__max_depth=90, regressor__min_samples_leaf=5, regressor__min_samples_split=2, regressor__n_estimators=120; total time=   0.2s\n",
            "[CV] END regressor__max_depth=90, regressor__min_samples_leaf=5, regressor__min_samples_split=2, regressor__n_estimators=120; total time=   0.3s\n",
            "[CV] END regressor__max_depth=100, regressor__min_samples_leaf=3, regressor__min_samples_split=10, regressor__n_estimators=110; total time=   0.2s\n",
            "[CV] END regressor__max_depth=90, regressor__min_samples_leaf=5, regressor__min_samples_split=2, regressor__n_estimators=120; total time=   0.2s\n",
            "[CV] END regressor__max_depth=100, regressor__min_samples_leaf=3, regressor__min_samples_split=10, regressor__n_estimators=110; total time=   0.2s\n",
            "[CV] END regressor__max_depth=100, regressor__min_samples_leaf=3, regressor__min_samples_split=10, regressor__n_estimators=110; total time=   0.2s\n",
            "[CV] END regressor__max_depth=100, regressor__min_samples_leaf=3, regressor__min_samples_split=10, regressor__n_estimators=110; total time=   0.2s\n",
            "[CV] END regressor__max_depth=100, regressor__min_samples_leaf=3, regressor__min_samples_split=10, regressor__n_estimators=110; total time=   0.2s\n",
            "[CV] END regressor__max_depth=50, regressor__min_samples_leaf=3, regressor__min_samples_split=10, regressor__n_estimators=100; total time=   0.2s\n",
            "[CV] END regressor__max_depth=50, regressor__min_samples_leaf=3, regressor__min_samples_split=10, regressor__n_estimators=100; total time=   0.2s\n",
            "[CV] END regressor__max_depth=50, regressor__min_samples_leaf=3, regressor__min_samples_split=10, regressor__n_estimators=100; total time=   0.2s\n",
            "[CV] END regressor__max_depth=50, regressor__min_samples_leaf=3, regressor__min_samples_split=10, regressor__n_estimators=100; total time=   0.2s\n",
            "[CV] END regressor__max_depth=50, regressor__min_samples_leaf=3, regressor__min_samples_split=10, regressor__n_estimators=100; total time=   0.2s\n",
            "[CV] END regressor__max_depth=60, regressor__min_samples_leaf=5, regressor__min_samples_split=10, regressor__n_estimators=190; total time=   0.3s\n",
            "[CV] END regressor__max_depth=60, regressor__min_samples_leaf=5, regressor__min_samples_split=10, regressor__n_estimators=190; total time=   0.3s\n",
            "[CV] END regressor__max_depth=60, regressor__min_samples_leaf=5, regressor__min_samples_split=10, regressor__n_estimators=190; total time=   0.2s\n",
            "[CV] END regressor__max_depth=60, regressor__min_samples_leaf=5, regressor__min_samples_split=10, regressor__n_estimators=190; total time=   0.3s\n",
            "[CV] END regressor__max_depth=60, regressor__min_samples_leaf=5, regressor__min_samples_split=10, regressor__n_estimators=190; total time=   0.2s\n",
            "Best hyperparameters: {'regressor__n_estimators': 160, 'regressor__min_samples_split': 2, 'regressor__min_samples_leaf': 1, 'regressor__max_depth': 70}\n",
            "Best cross-validation R^2 score: 0.37868169541847413\n"
          ]
        }
      ],
      "source": [
        "from sklearn.model_selection import RandomizedSearchCV\n",
        "from sklearn.ensemble import RandomForestRegressor\n",
        "import numpy as np\n",
        "\n",
        "# Define the hyperparameter space for randomized search\n",
        "param_distributions = {\n",
        "    'regressor__n_estimators': np.arange(100, 201, 10),  # Randomly search between 100 and 200 trees\n",
        "    'regressor__max_depth': np.arange(50, 101, 10),  # Randomly search between 50 and 100 for depth\n",
        "    'regressor__min_samples_split': [2, 5, 10],\n",
        "    'regressor__min_samples_leaf': [1, 3, 5]\n",
        "}\n",
        "\n",
        "# Create the RandomizedSearchCV object\n",
        "random_search = RandomizedSearchCV(estimator=rf_model, \n",
        "                                   param_distributions=param_distributions, \n",
        "                                   n_iter=10, cv=5, n_jobs=-1, scoring='r2', verbose=2, random_state=42)\n",
        "\n",
        "# Perform randomized search on the training data\n",
        "random_search.fit(X_train, y_train)\n",
        "\n",
        "# Print the best hyperparameters and R^2 score\n",
        "print(f\"Best hyperparameters: {random_search.best_params_}\")\n",
        "print(f\"Best cross-validation R^2 score: {random_search.best_score_}\")\n",
        "\n"
      ]
    },
    {
      "cell_type": "code",
      "execution_count": 109,
      "metadata": {},
      "outputs": [
        {
          "name": "stdout",
          "output_type": "stream",
          "text": [
            "Random Forest - Training R^2 score: 0.9264495492982864\n",
            "Random Forest - Test R^2 score: 0.591630511450663\n"
          ]
        }
      ],
      "source": [
        "\n",
        "from sklearn.ensemble import RandomForestRegressor\n",
        "from sklearn.pipeline import Pipeline\n",
        "from sklearn.model_selection import train_test_split\n",
        "\n",
        "# Define the Random Forest model pipeline (Hyperparameters are included already due to the parameter check later on)\n",
        "rf_model = Pipeline(steps=[\n",
        "    ('preprocessor', preprocessor),\n",
        "    ('regressor', RandomForestRegressor(n_estimators=1600, \n",
        "                                        max_depth=70, \n",
        "                                        min_samples_split=2, \n",
        "                                        min_samples_leaf=1, \n",
        "                                        random_state=42))\n",
        "])\n",
        "# Split data into training and test sets\n",
        "X_train, X_test, y_train, y_test = train_test_split(X, y, test_size=0.2, random_state=21)\n",
        "\n",
        "# Train the model\n",
        "rf_model.fit(X_train, y_train)\n",
        "\n",
        "# Evaluate the model\n",
        "train_score_rf = rf_model.score(X_train, y_train)\n",
        "test_score_rf = rf_model.score(X_test, y_test)\n",
        "\n",
        "print(f'Random Forest - Training R^2 score: {train_score_rf}')\n",
        "print(f'Random Forest - Test R^2 score: {test_score_rf}')\n"
      ]
    },
    {
      "cell_type": "markdown",
      "metadata": {
        "id": "6GpNHmCy7IE3"
      },
      "source": [
        "### 5. Train the models using cross-validation\n",
        "We will train the models using cross-validation and split the dataset into training and testing sets.\n"
      ]
    },
    {
      "cell_type": "markdown",
      "metadata": {},
      "source": [
        "The cross-validation R² scores show how well the model explains the variation in the data across 5 different splits, with an average score of 0.578.\n",
        "The model's performance on the test data is 0.615 R², which is fairly close to the cross-validation score, indicating consistent performance."
      ]
    },
    {
      "cell_type": "markdown",
      "metadata": {},
      "source": [
        "Above is the optimal Hyperparameters: Underneath is the optimal model. (The model is updated in the training part from these results)"
      ]
    },
    {
      "cell_type": "code",
      "execution_count": 98,
      "metadata": {},
      "outputs": [
        {
          "name": "stdout",
          "output_type": "stream",
          "text": [
            "Cross-Validation R^2 Scores: [0.27877709 0.28882515 0.56631423 0.59179017 0.55400794]\n",
            "Mean Cross-Validation R^2: 0.4559429188367816\n",
            "Random Forest - Training R^2 score: 0.8551470632180019\n",
            "Random Forest - Test R^2 score: 0.5799228724736305\n"
          ]
        }
      ],
      "source": [
        "from sklearn.model_selection import cross_val_score\n",
        "\n",
        "# Perform 5-fold cross-validation\n",
        "cv_scores = cross_val_score(rf_model, X, y, cv=5, scoring='r2')\n",
        "\n",
        "# Evaluate the model on training and test data\n",
        "train_score_rf = rf_model.score(X_train, y_train)\n",
        "test_score_rf = rf_model.score(X_test, y_test)\n",
        "\n",
        "# Print cross-validation scores and the final evaluation\n",
        "print(f\"Cross-Validation R^2 Scores: {cv_scores}\")\n",
        "print(f\"Mean Cross-Validation R^2: {cv_scores.mean()}\")\n",
        "print(f'Random Forest - Training R^2 score: {train_score_rf}')\n",
        "print(f'Random Forest - Test R^2 score: {test_score_rf}')\n"
      ]
    },
    {
      "cell_type": "markdown",
      "metadata": {
        "id": "B4bFjlMK7Y6M"
      },
      "source": [
        "# Model Evaluation\n"
      ]
    },
    {
      "cell_type": "markdown",
      "metadata": {
        "id": "yLH16Juu7hSI"
      },
      "source": [
        "### Evaluate model performance\n",
        "We will evaluate the model's performance using relevant metrics like accuracy, precision, recall, etc.\n"
      ]
    },
    {
      "cell_type": "code",
      "execution_count": 99,
      "metadata": {},
      "outputs": [
        {
          "name": "stdout",
          "output_type": "stream",
          "text": [
            "Mean Squared Error (MSE): 414617.59513847297\n",
            "Root Mean Squared Error (RMSE): 643.9080641974233\n",
            "Mean Absolute Error (MAE): 356.5206272555655\n",
            "R^2 score: 0.5799228724736305\n"
          ]
        }
      ],
      "source": [
        "from sklearn.metrics import mean_squared_error, mean_absolute_error, r2_score\n",
        "import numpy as np\n",
        "\n",
        "# Predict on the test set\n",
        "y_pred = rf_model.predict(X_test)\n",
        "\n",
        "# Calculate MSE\n",
        "mse = mean_squared_error(y_test, y_pred)\n",
        "\n",
        "# Calculate RMSE\n",
        "rmse = np.sqrt(mse)\n",
        "\n",
        "# Calculate MAE\n",
        "mae = mean_absolute_error(y_test, y_pred)\n",
        "\n",
        "# Calculate R^2 score\n",
        "r2 = r2_score(y_test, y_pred)\n",
        "\n",
        "# Print the results\n",
        "print(f'Mean Squared Error (MSE): {mse}')\n",
        "print(f'Root Mean Squared Error (RMSE): {rmse}')\n",
        "print(f'Mean Absolute Error (MAE): {mae}')\n",
        "print(f'R^2 score: {r2}')\n"
      ]
    },
    {
      "cell_type": "markdown",
      "metadata": {
        "id": "Obxn7hvl7jXu"
      },
      "source": [
        "### 8. Include visualizations to support evaluation\n",
        "We will include visualizations such as a confusion matrix or feature importance plots to support the evaluation.\n"
      ]
    },
    {
      "cell_type": "code",
      "execution_count": 100,
      "metadata": {},
      "outputs": [],
      "source": [
        "# Extract the RandomForestRegressor from the pipeline\n",
        "rf_regressor = rf_model.named_steps['regressor']\n"
      ]
    },
    {
      "cell_type": "code",
      "execution_count": 101,
      "metadata": {},
      "outputs": [],
      "source": [
        "X_test_transformed = preprocessor.transform(X_test)\n"
      ]
    },
    {
      "cell_type": "code",
      "execution_count": 102,
      "metadata": {},
      "outputs": [
        {
          "data": {
            "image/png": "[encoded data removed]",
            "text/plain": [
              "<Figure size 1000x600 with 1 Axes>"
            ]
          },
          "metadata": {},
          "output_type": "display_data"
        }
      ],
      "source": [
        "# We will reflect on the model’s transparency and the key factors that influence predictions.\n",
        "# This will be achieved by analyzing feature importances and how each feature contributes to the model’s output.\n",
        "# In particular, we will group one-hot encoded features back into their original categories\n",
        "# and visualize their overall influence on the predictions.\n",
        "# Get the feature names from the preprocessor\n",
        "onehot_columns = preprocessor.named_transformers_['cat'].get_feature_names_out(categorical_features)\n",
        "numeric_columns = numeric_features\n",
        "all_feature_names = list(numeric_columns) + list(onehot_columns)\n",
        "\n",
        "# Get the feature importances from the Random Forest model\n",
        "importances = rf_model.named_steps['regressor'].feature_importances_\n",
        "\n",
        "# Initialize a dictionary to store the grouped importances\n",
        "grouped_importances = {\n",
        "    'sector': 0,\n",
        "    'region': 0,\n",
        "    'activity': 0,\n",
        "    'borrowers_count': 0,\n",
        "    'funding_duration_days': 0,\n",
        "    'country': 0\n",
        "}\n",
        "\n",
        "# Loop through all feature names and sum their importances by original feature group\n",
        "for i, feature_name in enumerate(all_feature_names):\n",
        "    if 'sector' in feature_name:\n",
        "        grouped_importances['sector'] += importances[i]\n",
        "    elif 'region' in feature_name:\n",
        "        grouped_importances['region'] += importances[i]\n",
        "    elif 'activity' in feature_name:\n",
        "        grouped_importances['activity'] += importances[i]\n",
        "    elif 'country' in feature_name:\n",
        "        grouped_importances['country'] += importances[i]\n",
        "    elif feature_name == 'borrowers_count':\n",
        "        grouped_importances['borrowers_count'] += importances[i]\n",
        "    elif feature_name == 'funding_duration_days':\n",
        "        grouped_importances['funding_duration_days'] += importances[i]\n",
        "\n",
        "# Convert the dictionary to a DataFrame for easy plotting\n",
        "grouped_importances_df = pd.DataFrame(list(grouped_importances.items()), columns=['Feature', 'Importance'])\n",
        "\n",
        "# Plot the grouped feature importances\n",
        "plt.figure(figsize=(10, 6))\n",
        "plt.barh(grouped_importances_df['Feature'], grouped_importances_df['Importance'])\n",
        "plt.xlabel('Total Feature Importance')\n",
        "plt.title('Grouped Feature Importances')\n",
        "plt.show()\n"
      ]
    },
    {
      "cell_type": "code",
      "execution_count": 103,
      "metadata": {},
      "outputs": [
        {
          "data": {
            "image/png": "[encoded data removed]",
            "text/plain": [
              "<Figure size 1000x600 with 1 Axes>"
            ]
          },
          "metadata": {},
          "output_type": "display_data"
        }
      ],
      "source": [
        "import numpy as np\n",
        "import matplotlib.pyplot as plt\n",
        "import pandas as pd\n",
        "\n",
        "# Get the feature names from the preprocessor\n",
        "onehot_columns = preprocessor.named_transformers_['cat'].get_feature_names_out(categorical_features)\n",
        "numeric_columns = numeric_features\n",
        "all_feature_names = list(numeric_columns) + list(onehot_columns)\n",
        "\n",
        "# Get the feature importances from the Random Forest model\n",
        "importances = rf_model.named_steps['regressor'].feature_importances_\n",
        "\n",
        "# Ensure the feature names and feature importances match in size\n",
        "if len(all_feature_names) != len(importances):\n",
        "    print(f\"Warning: Mismatch in feature names ({len(all_feature_names)}) and feature importances ({len(importances)}).\")\n",
        "    min_len = min(len(all_feature_names), len(importances))\n",
        "    all_feature_names = all_feature_names[:min_len]\n",
        "    importances = importances[:min_len]\n",
        "\n",
        "# Sort feature importances in descending order\n",
        "indices = np.argsort(importances)[::-1]\n",
        "\n",
        "# Select the top 10 most important features\n",
        "top_n = 10  # Change this to any number of top features you want to display\n",
        "top_features = np.array(all_feature_names)[indices][:top_n]\n",
        "top_importances = importances[indices][:top_n]\n",
        "\n",
        "# Create a bar plot for the top features\n",
        "plt.figure(figsize=(10, 6))\n",
        "plt.barh(top_features, top_importances, color='skyblue')\n",
        "plt.xlabel('Importance')\n",
        "plt.title(f'Top {top_n} Most Important Features from Random Forest')\n",
        "plt.gca().invert_yaxis()  # Invert y-axis to have the most important at the top\n",
        "plt.tight_layout()\n",
        "plt.show()\n"
      ]
    },
    {
      "cell_type": "markdown",
      "metadata": {
        "id": "NpfLI-ey7lyr"
      },
      "source": [
        "# Explainability\n"
      ]
    },
    {
      "cell_type": "markdown",
      "metadata": {
        "id": "NwGbj0JQ7onC"
      },
      "source": [
        "### 9. Use SHAP values or other tools for interpretability\n",
        "We will use SHAP values or other interpretability tools to explain the factors driving the model’s predictions.\n"
      ]
    },
    {
      "cell_type": "code",
      "execution_count": 104,
      "metadata": {},
      "outputs": [
        {
          "data": {
            "image/png": "[encoded data removed]",
            "text/plain": [
              "<Figure size 800x950 with 2 Axes>"
            ]
          },
          "metadata": {},
          "output_type": "display_data"
        }
      ],
      "source": [
        "import shap\n",
        "import matplotlib.pyplot as plt\n",
        "\n",
        "# Step 1: Konverter de sparse transformerede data til en tæt matrix (dense array)\n",
        "X_test_dense = X_test_transformed.toarray()  # Konverter sparse matrix til en tæt matrix\n",
        "\n",
        "# Step 2: Initialiser SHAP TreeExplainer med din RandomForest model\n",
        "explainer_shap = shap.TreeExplainer(rf_model.named_steps['regressor'])\n",
        "\n",
        "# Step 3: Beregn SHAP-værdierne for de tætte data\n",
        "shap_values = explainer_shap.shap_values(X_test_dense)\n",
        "\n",
        "# Step 4: Hent de korrekte feature-navne fra preprocessor\n",
        "onehot_columns = preprocessor.named_transformers_['cat'].get_feature_names_out(categorical_features)\n",
        "numeric_columns = numeric_features\n",
        "all_feature_names = list(numeric_columns) + list(onehot_columns)\n",
        "\n",
        "# Step 5: Lav en SHAP summary plot for alle features (uden grouping)\n",
        "shap.summary_plot(shap_values, X_test_dense, feature_names=all_feature_names)\n"
      ]
    },
    {
      "cell_type": "code",
      "execution_count": 105,
      "metadata": {},
      "outputs": [
        {
          "data": {
            "image/png": "[encoded data removed]",
            "text/plain": [
              "<Figure size 800x390 with 2 Axes>"
            ]
          },
          "metadata": {},
          "output_type": "display_data"
        }
      ],
      "source": [
        "import shap\n",
        "import matplotlib.pyplot as plt\n",
        "import pandas as pd\n",
        "\n",
        "# Step 1: Konverter sparse matrix til en tæt matrix\n",
        "X_test_dense = X_test_transformed.toarray()\n",
        "\n",
        "# Step 2: Initialiser SHAP TreeExplainer med din RandomForest model\n",
        "explainer_shap = shap.TreeExplainer(rf_model.named_steps['regressor'])\n",
        "\n",
        "# Step 3: Beregn SHAP-værdierne for de tætte data\n",
        "shap_values = explainer_shap.shap_values(X_test_dense)\n",
        "\n",
        "# Step 4: Hent de korrekte feature-navne fra preprocessor\n",
        "onehot_columns = preprocessor.named_transformers_['cat'].get_feature_names_out(categorical_features)\n",
        "numeric_columns = numeric_features\n",
        "all_feature_names = list(numeric_columns) + list(onehot_columns)\n",
        "\n",
        "# Step 5: Initialiser en dictionary til at gruppere SHAP-værdier efter overordnede features\n",
        "grouped_shap_values = {\n",
        "    'sector': 0,\n",
        "    'region': 0,\n",
        "    'activity': 0,\n",
        "    'partner_id': 0,\n",
        "    'borrowers_count': 0,\n",
        "    'funding_duration_days': 0\n",
        "}\n",
        "\n",
        "# Step 6: Loop gennem alle feature-navne og summér SHAP-værdierne efter de oprindelige feature-grupper\n",
        "shap_values_grouped = pd.DataFrame(0, index=range(X_test_dense.shape[0]), columns=grouped_shap_values.keys())\n",
        "\n",
        "for i, feature_name in enumerate(all_feature_names):\n",
        "    if 'sector' in feature_name:\n",
        "        shap_values_grouped['sector'] += shap_values[:, i]\n",
        "    elif 'region' in feature_name:\n",
        "        shap_values_grouped['region'] += shap_values[:, i]\n",
        "    elif 'activity' in feature_name:\n",
        "        shap_values_grouped['activity'] += shap_values[:, i]\n",
        "    elif 'partner_id' in feature_name:\n",
        "        shap_values_grouped['partner_id'] += shap_values[:, i]\n",
        "    elif feature_name == 'borrowers_count':\n",
        "        shap_values_grouped['borrowers_count'] += shap_values[:, i]\n",
        "    elif feature_name == 'funding_duration_days':\n",
        "        shap_values_grouped['funding_duration_days'] += shap_values[:, i]\n",
        "\n",
        "# Step 7: Opret en forenklet matrix, der matcher de grupperede features (for visualisering)\n",
        "X_test_grouped = pd.DataFrame(0, index=range(X_test_dense.shape[0]), columns=grouped_shap_values.keys())\n",
        "\n",
        "# Step 8: Lav en SHAP summary plot for de grupperede SHAP-værdier\n",
        "shap.summary_plot(shap_values_grouped.values, X_test_grouped, feature_names=list(grouped_shap_values.keys()))\n",
        "\n",
        "\n"
      ]
    },
    {
      "cell_type": "code",
      "execution_count": 106,
      "metadata": {},
      "outputs": [
        {
          "name": "stderr",
          "output_type": "stream",
          "text": [
            "/var/folders/xc/v1l81vkx6fjc9wpqc0tsnl400000gn/T/ipykernel_6385/30311732.py:9: UserWarning: color is redundantly defined by the 'color' keyword argument and the fmt string \"k--\" (-> color='k'). The keyword argument will take precedence.\n",
            "  plt.plot([y_test.min(), y_test.max()], [y_test.min(), y_test.max()], 'k--', lw=2, color='red', label='Ideal Fit')\n"
          ]
        },
        {
          "data": {
            "image/png": "[encoded data removed]",
            "text/plain": [
              "<Figure size 1000x600 with 1 Axes>"
            ]
          },
          "metadata": {},
          "output_type": "display_data"
        }
      ],
      "source": [
        "import matplotlib.pyplot as plt\n",
        "\n",
        "# Step 1: Make predictions on the test set using your RandomForest model\n",
        "y_pred = rf_model.predict(X_test)\n",
        "\n",
        "# Step 2: Plot actual vs predicted values\n",
        "plt.figure(figsize=(10, 6))\n",
        "plt.scatter(y_test, y_pred, alpha=0.5, color='blue', label='Predictions')\n",
        "plt.plot([y_test.min(), y_test.max()], [y_test.min(), y_test.max()], 'k--', lw=2, color='red', label='Ideal Fit')\n",
        "plt.title('Random Forest: Actual vs Predicted Loan Amounts', fontsize=16)\n",
        "plt.xlabel('Actual Loan Amount', fontsize=14)\n",
        "plt.ylabel('Predicted Loan Amount', fontsize=14)\n",
        "plt.legend()\n",
        "plt.show()\n"
      ]
    },
    {
      "cell_type": "markdown",
      "metadata": {
        "id": "sidGKhC17sIa"
      },
      "source": [
        "# Reflections\n"
      ]
    },
    {
      "cell_type": "markdown",
      "metadata": {
        "id": "KOqfPgRY7t-O"
      },
      "source": [
        "### 11. Reflect on the feature selection process\n",
        "Ultimately, the feature selection process balanced model performance with interpretability. The dimensionality of the dataset increased after one-hot encoding, but grouping those features helped manage this. SHAP values were also used to explore the contribution of each feature group, which validated the importance of specific features like borrowers_count and partner_id.\n",
        "\n",
        "In future iterations, dimensionality reduction techniques like feature selection based on importance rankings or PCA could be explored further if the feature space becomes too large or if model performance needs further improvement. However, the current balance between performance and interpretability aligns well with the goals of the project."
      ]
    },
    {
      "cell_type": "markdown",
      "metadata": {},
      "source": [
        "The feature selection process, combined with the use of SHAP values and feature importance rankings, significantly improved the transparency and interpretability of the Random Forest model. Grouping one-hot encoded features by their original categories and using SHAP to explore feature contributions allowed for both global and local interpretability. This ensures that stakeholders can understand not only which features are important but also how they influence specific predictions, making the model's decisions more transparent and actionable in the real-world context of the dataset."
      ]
    },
    {
      "cell_type": "markdown",
      "metadata": {
        "id": "v6yyaJV57w3S"
      },
      "source": [
        "# App Development\n"
      ]
    },
    {
      "cell_type": "markdown",
      "metadata": {
        "id": "bdw4j_B27yR5"
      },
      "source": [
        "### 13. Extend your Streamlit dashboard or build an API\n",
        "We will extend the Streamlit dashboard to integrate the models and allow users to interact with the predictions.\n",
        "Alternatively, we can build an API using FastAPI to deploy the inference.\n"
      ]
    },
    {
      "cell_type": "code",
      "execution_count": 107,
      "metadata": {},
      "outputs": [
        {
          "name": "stdout",
          "output_type": "stream",
          "text": [
            "Running on local URL:  http://127.0.0.1:7866\n",
            "\n",
            "To create a public link, set `share=True` in `launch()`.\n"
          ]
        },
        {
          "data": {
            "text/html": [
              "<div><iframe src=\"http://127.0.0.1:7866/\" width=\"100%\" height=\"500\" allow=\"autoplay; camera; microphone; clipboard-read; clipboard-write;\" frameborder=\"0\" allowfullscreen></iframe></div>"
            ],
            "text/plain": [
              "<IPython.core.display.HTML object>"
            ]
          },
          "metadata": {},
          "output_type": "display_data"
        },
        {
          "data": {
            "text/plain": []
          },
          "execution_count": 107,
          "metadata": {},
          "output_type": "execute_result"
        }
      ],
      "source": [
        "import gradio as gr\n",
        "import pandas as pd\n",
        "\n",
        "# Assuming loans_sampled is your dataset\n",
        "# Create a dictionary mapping countries to their regions\n",
        "country_region_map = loans_sampled.groupby('country')['region'].unique().to_dict()\n",
        "\n",
        "# Create a dictionary mapping sectors to their activities\n",
        "sector_activity_map = loans_sampled.groupby('sector')['activity'].unique().to_dict()\n",
        "\n",
        "# Prediction function for Gradio\n",
        "def predict_rf(gender_class, activity, sector, country, region, borrowers_count, funding_duration_days, term_in_months):\n",
        "    # Create a dictionary of input values, matching the expected column names\n",
        "    input_data = {\n",
        "        'gender_class': [gender_class],\n",
        "        'sector': [sector],\n",
        "        'activity': [activity],\n",
        "        'country': [country],\n",
        "        'region': [region],\n",
        "        'borrowers_count': [borrowers_count],\n",
        "        'funding_duration_days': [funding_duration_days],\n",
        "        'term_in_months': [term_in_months]\n",
        "    }\n",
        "    \n",
        "    # Convert the input data to a pandas DataFrame\n",
        "    input_df = pd.DataFrame(input_data)\n",
        "    \n",
        "    # Preprocess the input data using the preprocessor from the pipeline\n",
        "    input_transformed = rf_model.named_steps['preprocessor'].transform(input_df)\n",
        "    \n",
        "    # Use your random forest model to make a prediction for loan_amount\n",
        "    prediction = rf_model.named_steps['regressor'].predict(input_transformed)[0]\n",
        "    \n",
        "    # Return the prediction (loan amount)\n",
        "    return prediction\n",
        "\n",
        "# Update region dropdown based on selected country - we only want regions from the selected country\n",
        "def update_region(country):\n",
        "    regions = country_region_map.get(country, [])\n",
        "    return gr.update(choices=list(regions))\n",
        "\n",
        "# Update activity dropdown based on selected sector - we only want already present activities from the selected sector\n",
        "def update_activity(sector):\n",
        "    activity = sector_activity_map.get(sector, [])\n",
        "    return gr.update(choices=list(activity))\n",
        "\n",
        "# Unique values for dropdowns\n",
        "unique_gender = loans_sampled['gender_class'].unique().tolist()\n",
        "unique_sector = loans_sampled['sector'].unique().tolist()\n",
        "unique_country = loans_sampled['country'].unique().tolist()\n",
        "\n",
        "# Create the Gradio block interface\n",
        "with gr.Blocks(title=\"Loan Amount Predictor\") as app:\n",
        "    gr.Markdown(\"# Loan Amount Predictor\")\n",
        "    gr.Markdown(\"Input the needed variables to get your estimated loan\")\n",
        "    \n",
        "    # Define input components\n",
        "    gender_dropdown = gr.Dropdown(choices=unique_gender, label=\"Gender Class\")\n",
        "    sector_dropdown = gr.Dropdown(choices=unique_sector, label=\"Sector\")\n",
        "    activity_dropdown = gr.Dropdown(choices=[], label=\"Activity\")  # empty initially, updated based on sector selection\n",
        "    country_dropdown = gr.Dropdown(choices=unique_country, label=\"Country\")\n",
        "    region_dropdown = gr.Dropdown(choices=[], label=\"Region\")  # empty at first, updated based on country selection\n",
        "    borrowers_slider = gr.Slider(1, 10, value=1, step=1, label=\"Number of Borrowers\")\n",
        "    funding_duration_slider = gr.Slider(0, 90, value=30, step=1, label=\"Funding Duration (How long will you wait for funding?)\")\n",
        "    term_in_months_slider = gr.Slider(1, 144, value=12, step=1, label=\"Term in Months\") \n",
        "    \n",
        "    # Set up event listener to update region dropdown when country changes\n",
        "    country_dropdown.change(fn=update_region, inputs=country_dropdown, outputs=region_dropdown)\n",
        "    sector_dropdown.change(fn=update_activity, inputs=sector_dropdown, outputs=activity_dropdown)\n",
        "\n",
        "    # Add a button to submit the prediction\n",
        "    submit_button = gr.Button(\"Submit\")\n",
        "    submit_button.click(fn=predict_rf, \n",
        "                        inputs=[gender_dropdown, activity_dropdown, sector_dropdown, country_dropdown, region_dropdown, borrowers_slider, funding_duration_slider, term_in_months_slider],\n",
        "                        outputs=gr.Textbox(label=\"Predicted Loan Amount\"))\n",
        "\n",
        "# Launch the app\n",
        "app.launch()\n"
      ]
    }
  ],
  "metadata": {
    "colab": {
      "provenance": []
    },
    "kernelspec": {
      "display_name": "Python 3",
      "name": "python3"
    },
    "language_info": {
      "codemirror_mode": {
        "name": "ipython",
        "version": 3
      },
      "file_extension": ".py",
      "mimetype": "text/x-python",
      "name": "python",
      "nbconvert_exporter": "python",
      "pygments_lexer": "ipython3",
      "version": "3.12.4"
    }
  },
  "nbformat": 4,
  "nbformat_minor": 0
}
